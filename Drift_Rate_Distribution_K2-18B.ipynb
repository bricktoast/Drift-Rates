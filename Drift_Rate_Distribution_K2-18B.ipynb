{
 "cells": [
  {
   "cell_type": "markdown",
   "id": "25c22ae5",
   "metadata": {},
   "source": [
    "Hello! Thank you for your interest in drift rates! Please don't hesitate to email me (megangrace@ucla.edu) if you have comments/suggestions. This notebook includes a sample run of the code on the wonderful exoplanet, K2-18 B."
   ]
  },
  {
   "cell_type": "code",
   "execution_count": 1,
   "id": "a41c2fc0",
   "metadata": {},
   "outputs": [],
   "source": [
    "#general utility packages\n",
    "import numpy as np\n",
    "import matplotlib.pyplot as plt\n",
    "import pandas as pd\n",
    "\n",
    "#nice modules from astropy\n",
    "import astropy.units as u\n",
    "import astropy.constants as const\n",
    "\n",
    "#remind matplotlib how to do 3D plotting\n",
    "from mpl_toolkits.mplot3d import Axes3D"
   ]
  },
  {
   "cell_type": "code",
   "execution_count": 2,
   "id": "3bc2846e",
   "metadata": {},
   "outputs": [
    {
     "name": "stdout",
     "output_type": "stream",
     "text": [
      "Requirement already satisfied: PyAstronomy in /Users/megan/opt/anaconda3/lib/python3.8/site-packages (0.16.0)\r\n",
      "Requirement already satisfied: numpy in /Users/megan/opt/anaconda3/lib/python3.8/site-packages (from PyAstronomy) (1.20.1)\r\n",
      "Requirement already satisfied: six in /Users/megan/opt/anaconda3/lib/python3.8/site-packages (from PyAstronomy) (1.15.0)\r\n"
     ]
    }
   ],
   "source": [
    "#builds very nice elliiptical orbits\n",
    "!pip install PyAstronomy\n",
    "import PyAstronomy\n",
    "from PyAstronomy import pyasl"
   ]
  },
  {
   "cell_type": "markdown",
   "id": "e7bdbede",
   "metadata": {},
   "source": [
    "### Drift Rates Function\n",
    "\n",
    "The drift_rates function is the only computing function in the entire notebook. First, it builds an elliptical orbit based on the 7 orbital parameters and then samples this orbit num_timestep times. These samples return radial components, which are plugged into the gravitational accleration equation (GM/r^2) to get an acceleration at each of these points. Then, the function projects these acceleration vectors along the axis between the transmitter and the observer (Earth), and returns 200 scalar drift rates for each planet.\n",
    "\n",
    "\n",
    "Semimajor axis is in AU\n",
    "\n",
    "\n",
    "Stellar mass is in Solar masses\n",
    "\n",
    "\n",
    "Period is in days\n",
    "\n",
    "\n",
    "e is the eccentricity of the orbit\n",
    "\n",
    "\n",
    "omega is longitude of ascending node in degrees\n",
    "\n",
    "\n",
    "i is inclination in degrees\n",
    "\n",
    "\n",
    "w is argument is periapse in degrees\n",
    "\n",
    "\n",
    "num_timestep is the number of data points to build the ellipse, I've been using 200"
   ]
  },
  {
   "cell_type": "code",
   "execution_count": 17,
   "id": "79cc7b4a",
   "metadata": {},
   "outputs": [],
   "source": [
    "G = const.G\n",
    "c = 3 * 10**8\n",
    "def drift_rates(semimajor, period, e, omega, i, w, stellar_mass, num_timestep):\n",
    "    ke = pyasl.KeplerEllipse(semimajor, period, e, Omega = omega,i = i,w = w)\n",
    "    # Build the ellipse\n",
    "    t = np.linspace(0, period, num_timestep)\n",
    "    # Make a time axis\n",
    "    pos = ke.xyzPos(t)\n",
    "    radius = ke.radius(t)\n",
    "    total_acc = G*stellar_mass*u.Msun/(radius* u.au)**2\n",
    "    z_acceleration_array = []\n",
    "    vector_to_earth = [0,0,1]\n",
    "    for i in range(0, num_timestep):\n",
    "        position_vector = ke.xyzPos(t)[i,:]\n",
    "        radius = ke.radius(t)\n",
    "        # vector from the origin (host star) to the point in the orbit\n",
    "        z_magnitude = np.dot(vector_to_earth, position_vector) / radius[i]\n",
    "        # normalized magnitude of the vector in the observer's direction - between -1 and 1\n",
    "        z_acceleration_array.append((z_magnitude * total_acc[i].si).value/c)\n",
    "    return z_acceleration_array"
   ]
  },
  {
   "cell_type": "markdown",
   "id": "eb87779a",
   "metadata": {},
   "source": [
    "## K2-18 B\n",
    "\n",
    "I got these numbers from Sarkis et al 2018 and Cloutier et al 2017 as listed in this [database](https://exoplanetarchive.ipac.caltech.edu/overview/%20K2-18%20b#planet_K2-18-b_collapsible)\n",
    "\n",
    "The stellar mass of K2-18 is taken to be 0.359 Solar Masses.\n",
    "\n",
    "(Planet Name : semimajor axis, period, eccentricity, longitude of ascending node, inclination, argument of periastron)\n",
    "\n",
    "K2-18B : 0.1429, 32.94, 0.2, N/A, 89.6, 354.3\n",
    "\n",
    "Since we do not have a value for longitude of ascending node, I will run 4 simulations on 0, 90, 180, and 270 degrees."
   ]
  },
  {
   "cell_type": "code",
   "execution_count": 46,
   "id": "a036f029",
   "metadata": {},
   "outputs": [
    {
     "name": "stdout",
     "output_type": "stream",
     "text": [
      "0\n",
      "90\n",
      "180\n",
      "270\n"
     ]
    }
   ],
   "source": [
    "#list of LOAN's to iterate over\n",
    "loan_list = [0, 90, 180, 270]\n",
    "\n",
    "#will save all of the drift rates here\n",
    "for loan in loan_list:\n",
    "    drift_rates_df = pd.DataFrame(drift_rates(0.1429, 32.94, 0.2, loan, 89.6, 354.3, 0.359, 200), columns = ['drift_rates'])\n",
    "    print(loan)\n",
    "    drift_rates_df.to_csv('K2-18b_drift_rates_loan' + str(loan) +'.csv', index = False)\n",
    "    "
   ]
  },
  {
   "cell_type": "code",
   "execution_count": 47,
   "id": "0f35b832",
   "metadata": {},
   "outputs": [],
   "source": [
    "loan_0 = pd.read_csv('K2-18b_drift_rates_loan0.csv')\n",
    "loan_90 = pd.read_csv('K2-18b_drift_rates_loan90.csv')\n",
    "loan_180 = pd.read_csv('K2-18b_drift_rates_loan180.csv')\n",
    "loan_270 = pd.read_csv('K2-18b_drift_rates_loan270.csv')"
   ]
  },
  {
   "cell_type": "markdown",
   "id": "a1a63b53",
   "metadata": {},
   "source": [
    "I don't think it will make much of a difference but I will plot the LOAN's separately first and then concatenate and take percentiles."
   ]
  },
  {
   "cell_type": "code",
   "execution_count": 48,
   "id": "4d53213c",
   "metadata": {},
   "outputs": [
    {
     "data": {
      "image/png": "[encoded data removed]",
      "text/plain": [
       "<Figure size 216x144 with 1 Axes>"
      ]
     },
     "metadata": {
      "needs_background": "light"
     },
     "output_type": "display_data"
    },
    {
     "data": {
      "text/plain": [
       "<Figure size 432x288 with 0 Axes>"
      ]
     },
     "metadata": {},
     "output_type": "display_data"
    }
   ],
   "source": [
    "plt.figure(figsize=[3,2])\n",
    "plt.title('K2-18b Drift Rates with LOAN = 0 deg')\n",
    "plt.hist(loan_0)\n",
    "plt.xlabel('Drift Rate (Hz)')\n",
    "plt.show()\n",
    "plt.savefig('K2-18b_loan0.png')"
   ]
  },
  {
   "cell_type": "code",
   "execution_count": 49,
   "id": "03b3af27",
   "metadata": {},
   "outputs": [
    {
     "data": {
      "image/png": "[encoded data removed]",
      "text/plain": [
       "<Figure size 216x144 with 1 Axes>"
      ]
     },
     "metadata": {
      "needs_background": "light"
     },
     "output_type": "display_data"
    },
    {
     "data": {
      "text/plain": [
       "<Figure size 432x288 with 0 Axes>"
      ]
     },
     "metadata": {},
     "output_type": "display_data"
    }
   ],
   "source": [
    "plt.figure(figsize=[3,2])\n",
    "plt.title('K2-18b Drift Rates with LOAN = 90 deg')\n",
    "plt.hist(loan_90)\n",
    "plt.xlabel('Drift Rate (Hz)')\n",
    "plt.show()\n",
    "plt.savefig('K2-18b_loan90.png')"
   ]
  },
  {
   "cell_type": "code",
   "execution_count": 50,
   "id": "890d2c4f",
   "metadata": {},
   "outputs": [
    {
     "data": {
      "image/png": "[encoded data removed]",
      "text/plain": [
       "<Figure size 216x144 with 1 Axes>"
      ]
     },
     "metadata": {
      "needs_background": "light"
     },
     "output_type": "display_data"
    },
    {
     "data": {
      "text/plain": [
       "<Figure size 432x288 with 0 Axes>"
      ]
     },
     "metadata": {},
     "output_type": "display_data"
    }
   ],
   "source": [
    "plt.figure(figsize=[3,2])\n",
    "plt.title('K2-18b Drift Rates with LOAN = 180 deg')\n",
    "plt.hist(loan_180)\n",
    "plt.xlabel('Drift Rate (Hz)')\n",
    "plt.show()\n",
    "plt.savefig('K2-18b_loan180.png')"
   ]
  },
  {
   "cell_type": "code",
   "execution_count": 51,
   "id": "3e2aaf61",
   "metadata": {},
   "outputs": [
    {
     "data": {
      "image/png": "[encoded data removed]",
      "text/plain": [
       "<Figure size 216x144 with 1 Axes>"
      ]
     },
     "metadata": {
      "needs_background": "light"
     },
     "output_type": "display_data"
    },
    {
     "data": {
      "text/plain": [
       "<Figure size 432x288 with 0 Axes>"
      ]
     },
     "metadata": {},
     "output_type": "display_data"
    }
   ],
   "source": [
    "plt.figure(figsize=[3,2])\n",
    "plt.title('K2-18b Drift Rates with LOAN = 270 deg')\n",
    "plt.hist(loan_180)\n",
    "plt.xlabel('Drift Rate (Hz)')\n",
    "plt.show()\n",
    "plt.savefig('K2-18b_loan270.png')"
   ]
  },
  {
   "cell_type": "markdown",
   "id": "5768e9d4",
   "metadata": {},
   "source": [
    "The changes in LOAN appear to have made 0 difference. Likely because the inclination of this planet is very near 90 degrees."
   ]
  },
  {
   "cell_type": "code",
   "execution_count": 52,
   "id": "6eed477f",
   "metadata": {},
   "outputs": [],
   "source": [
    "def percentage_of_central_values(percent, list_):\n",
    "    #This function will provide bounds on the histogram for an any percent of the values\n",
    "    sorted_list = sorted(abs(list_))\n",
    "    number_of_entries = round(len(list_) * percent/100)\n",
    "    central_values = sorted_list[0:number_of_entries]\n",
    "    return central_values"
   ]
  },
  {
   "cell_type": "code",
   "execution_count": 67,
   "id": "b837e9e3",
   "metadata": {},
   "outputs": [
    {
     "name": "stdout",
     "output_type": "stream",
     "text": [
      "99\\% of the drift rates should be encompassed by +\\-4.1768750546809477e-10\n",
      "90\\% of the drift rates should be encompassed by +\\-3.888402578721064e-10\n",
      "80\\% of the drift rates should be encompassed by +\\-3.6378330024073766e-10\n",
      "70\\% of the drift rates should be encompassed by +\\-3.2601839069172926e-10\n"
     ]
    }
   ],
   "source": [
    "print('99\\% of the drift rates should be encompassed by +\\-' + str(percentage_of_central_values(99, np.array(loan_0['drift_rates'].to_list()))[-1]))\n",
    "print('90\\% of the drift rates should be encompassed by +\\-' + str(percentage_of_central_values(90, np.array(loan_0['drift_rates'].to_list()))[-1]))\n",
    "print('80\\% of the drift rates should be encompassed by +\\-' + str(percentage_of_central_values(80, np.array(loan_0['drift_rates'].to_list()))[-1]))\n",
    "print('70\\% of the drift rates should be encompassed by +\\-' + str(percentage_of_central_values(70, np.array(loan_0['drift_rates'].to_list()))[-1]))"
   ]
  },
  {
   "cell_type": "code",
   "execution_count": null,
   "id": "d76f41cd",
   "metadata": {},
   "outputs": [],
   "source": []
  }
 ],
 "metadata": {
  "kernelspec": {
   "display_name": "Python 3",
   "language": "python",
   "name": "python3"
  },
  "language_info": {
   "codemirror_mode": {
    "name": "ipython",
    "version": 3
   },
   "file_extension": ".py",
   "mimetype": "text/x-python",
   "name": "python",
   "nbconvert_exporter": "python",
   "pygments_lexer": "ipython3",
   "version": "3.8.8"
  }
 },
 "nbformat": 4,
 "nbformat_minor": 5
}
